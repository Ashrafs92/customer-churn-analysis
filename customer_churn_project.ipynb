{
 "cells": [
  {
   "cell_type": "markdown",
   "id": "cbf02ee6",
   "metadata": {},
   "source": [
    "# Customer Churn Analysis Project\n",
    "This notebook analyzes churn distribution and patterns."
   ]
  },
  {
   "cell_type": "code",
   "execution_count": null,
   "id": "980fc4db",
   "metadata": {},
   "outputs": [],
   "source": [
    "import pandas as pd\n",
    "import matplotlib.pyplot as plt\n",
    "\n",
    "# Load dataset\n",
    "df = pd.read_csv(\"customer_churn_data.csv\")\n",
    "\n",
    "print(df.head())\n",
    "\n",
    "# Churn distribution\n",
    "df['Churn'].value_counts().plot(kind=\"bar\", title=\"Churn Distribution\")\n",
    "plt.show()\n",
    "\n",
    "# Avg MonthlyCharges by Churn\n",
    "df.groupby(\"Churn\")[\"MonthlyCharges\"].mean().plot(kind=\"bar\", title=\"Avg Monthly Charges by Churn\")\n",
    "plt.show()"
   ]
  }
 ],
 "metadata": {},
 "nbformat": 4,
 "nbformat_minor": 5
}